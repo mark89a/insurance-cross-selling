{
 "cells": [
  {
   "cell_type": "code",
   "execution_count": 44,
   "metadata": {},
   "outputs": [],
   "source": [
    "import numpy as np\n",
    "import pandas as pd\n",
    "import seaborn as sns\n",
    "import matplotlib.pyplot as plt\n",
    "from sklearn.model_selection import train_test_split\n",
    "from sklearn.datasets import make_classification\n",
    "from sklearn.linear_model import LogisticRegression\n",
    "from sklearn.preprocessing import StandardScaler\n",
    "from sklearn.metrics import confusion_matrix, classification_report\n",
    "from sklearn.metrics import mean_squared_error, r2_score"
   ]
  },
  {
   "cell_type": "markdown",
   "metadata": {},
   "source": [
    "-------------------------------------------------------------------------------------------------------------------------------------------------------------------------------------"
   ]
  },
  {
   "cell_type": "markdown",
   "metadata": {},
   "source": [
    "1-DATASET IMPORT"
   ]
  },
  {
   "cell_type": "code",
   "execution_count": 52,
   "metadata": {},
   "outputs": [
    {
     "data": {
      "text/html": [
       "<div>\n",
       "<style scoped>\n",
       "    .dataframe tbody tr th:only-of-type {\n",
       "        vertical-align: middle;\n",
       "    }\n",
       "\n",
       "    .dataframe tbody tr th {\n",
       "        vertical-align: top;\n",
       "    }\n",
       "\n",
       "    .dataframe thead th {\n",
       "        text-align: right;\n",
       "    }\n",
       "</style>\n",
       "<table border=\"1\" class=\"dataframe\">\n",
       "  <thead>\n",
       "    <tr style=\"text-align: right;\">\n",
       "      <th></th>\n",
       "      <th>id</th>\n",
       "      <th>Gender</th>\n",
       "      <th>Age</th>\n",
       "      <th>Driving_License</th>\n",
       "      <th>Region_Code</th>\n",
       "      <th>Previously_Insured</th>\n",
       "      <th>Vehicle_Age</th>\n",
       "      <th>Vehicle_Damage</th>\n",
       "      <th>Annual_Premium</th>\n",
       "      <th>Policy_Sales_Channel</th>\n",
       "      <th>Vintage</th>\n",
       "      <th>Response</th>\n",
       "    </tr>\n",
       "  </thead>\n",
       "  <tbody>\n",
       "    <tr>\n",
       "      <th>0</th>\n",
       "      <td>1</td>\n",
       "      <td>Male</td>\n",
       "      <td>44</td>\n",
       "      <td>1</td>\n",
       "      <td>28.0</td>\n",
       "      <td>0</td>\n",
       "      <td>&gt; 2 Years</td>\n",
       "      <td>Yes</td>\n",
       "      <td>40454.0</td>\n",
       "      <td>26.0</td>\n",
       "      <td>217</td>\n",
       "      <td>1</td>\n",
       "    </tr>\n",
       "    <tr>\n",
       "      <th>1</th>\n",
       "      <td>2</td>\n",
       "      <td>Male</td>\n",
       "      <td>76</td>\n",
       "      <td>1</td>\n",
       "      <td>3.0</td>\n",
       "      <td>0</td>\n",
       "      <td>1-2 Year</td>\n",
       "      <td>No</td>\n",
       "      <td>33536.0</td>\n",
       "      <td>26.0</td>\n",
       "      <td>183</td>\n",
       "      <td>0</td>\n",
       "    </tr>\n",
       "    <tr>\n",
       "      <th>2</th>\n",
       "      <td>3</td>\n",
       "      <td>Male</td>\n",
       "      <td>47</td>\n",
       "      <td>1</td>\n",
       "      <td>28.0</td>\n",
       "      <td>0</td>\n",
       "      <td>&gt; 2 Years</td>\n",
       "      <td>Yes</td>\n",
       "      <td>38294.0</td>\n",
       "      <td>26.0</td>\n",
       "      <td>27</td>\n",
       "      <td>1</td>\n",
       "    </tr>\n",
       "    <tr>\n",
       "      <th>3</th>\n",
       "      <td>4</td>\n",
       "      <td>Male</td>\n",
       "      <td>21</td>\n",
       "      <td>1</td>\n",
       "      <td>11.0</td>\n",
       "      <td>1</td>\n",
       "      <td>&lt; 1 Year</td>\n",
       "      <td>No</td>\n",
       "      <td>28619.0</td>\n",
       "      <td>152.0</td>\n",
       "      <td>203</td>\n",
       "      <td>0</td>\n",
       "    </tr>\n",
       "    <tr>\n",
       "      <th>4</th>\n",
       "      <td>5</td>\n",
       "      <td>Female</td>\n",
       "      <td>29</td>\n",
       "      <td>1</td>\n",
       "      <td>41.0</td>\n",
       "      <td>1</td>\n",
       "      <td>&lt; 1 Year</td>\n",
       "      <td>No</td>\n",
       "      <td>27496.0</td>\n",
       "      <td>152.0</td>\n",
       "      <td>39</td>\n",
       "      <td>0</td>\n",
       "    </tr>\n",
       "  </tbody>\n",
       "</table>\n",
       "</div>"
      ],
      "text/plain": [
       "   id  Gender  Age  Driving_License  Region_Code  Previously_Insured  \\\n",
       "0   1    Male   44                1         28.0                   0   \n",
       "1   2    Male   76                1          3.0                   0   \n",
       "2   3    Male   47                1         28.0                   0   \n",
       "3   4    Male   21                1         11.0                   1   \n",
       "4   5  Female   29                1         41.0                   1   \n",
       "\n",
       "  Vehicle_Age Vehicle_Damage  Annual_Premium  Policy_Sales_Channel  Vintage  \\\n",
       "0   > 2 Years            Yes         40454.0                  26.0      217   \n",
       "1    1-2 Year             No         33536.0                  26.0      183   \n",
       "2   > 2 Years            Yes         38294.0                  26.0       27   \n",
       "3    < 1 Year             No         28619.0                 152.0      203   \n",
       "4    < 1 Year             No         27496.0                 152.0       39   \n",
       "\n",
       "   Response  \n",
       "0         1  \n",
       "1         0  \n",
       "2         1  \n",
       "3         0  \n",
       "4         0  "
      ]
     },
     "execution_count": 52,
     "metadata": {},
     "output_type": "execute_result"
    }
   ],
   "source": [
    "df=pd.read_csv(\"insurance_cross_sell.csv\")\n",
    "df.head()"
   ]
  },
  {
   "cell_type": "markdown",
   "metadata": {},
   "source": [
    "------------------------------------------------------------------------------------------------------------------------------------------------------------------------------------"
   ]
  },
  {
   "cell_type": "markdown",
   "metadata": {},
   "source": [
    "2-CHECK MISSING DATAS"
   ]
  },
  {
   "cell_type": "code",
   "execution_count": 53,
   "metadata": {},
   "outputs": [
    {
     "data": {
      "text/plain": [
       "(381109, 12)"
      ]
     },
     "execution_count": 53,
     "metadata": {},
     "output_type": "execute_result"
    }
   ],
   "source": [
    "df.shape     "
   ]
  },
  {
   "cell_type": "code",
   "execution_count": 54,
   "metadata": {},
   "outputs": [
    {
     "data": {
      "text/plain": [
       "id                      381109\n",
       "Gender                  381109\n",
       "Age                     381109\n",
       "Driving_License         381109\n",
       "Region_Code             381109\n",
       "Previously_Insured      381109\n",
       "Vehicle_Age             381109\n",
       "Vehicle_Damage          381109\n",
       "Annual_Premium          381109\n",
       "Policy_Sales_Channel    381109\n",
       "Vintage                 381109\n",
       "Response                381109\n",
       "dtype: int64"
      ]
     },
     "execution_count": 54,
     "metadata": {},
     "output_type": "execute_result"
    }
   ],
   "source": [
    "df.count()"
   ]
  },
  {
   "cell_type": "code",
   "execution_count": 55,
   "metadata": {},
   "outputs": [
    {
     "data": {
      "text/plain": [
       "id                      0\n",
       "Gender                  0\n",
       "Age                     0\n",
       "Driving_License         0\n",
       "Region_Code             0\n",
       "Previously_Insured      0\n",
       "Vehicle_Age             0\n",
       "Vehicle_Damage          0\n",
       "Annual_Premium          0\n",
       "Policy_Sales_Channel    0\n",
       "Vintage                 0\n",
       "Response                0\n",
       "dtype: int64"
      ]
     },
     "execution_count": 55,
     "metadata": {},
     "output_type": "execute_result"
    }
   ],
   "source": [
    "df.isna().sum()      #no missing data in the original dataset"
   ]
  },
  {
   "cell_type": "markdown",
   "metadata": {},
   "source": [
    "--------------------------------------------------------------------------------------------------------------------------------------------------------------------------------"
   ]
  },
  {
   "cell_type": "markdown",
   "metadata": {},
   "source": [
    "3-QUALITATIVE VARIABLES ENCODING"
   ]
  },
  {
   "cell_type": "code",
   "execution_count": 56,
   "metadata": {},
   "outputs": [
    {
     "data": {
      "text/plain": [
       "array(['Male', 'Female'], dtype=object)"
      ]
     },
     "execution_count": 56,
     "metadata": {},
     "output_type": "execute_result"
    }
   ],
   "source": [
    "df[\"Gender\"].unique()"
   ]
  },
  {
   "cell_type": "code",
   "execution_count": 57,
   "metadata": {},
   "outputs": [
    {
     "data": {
      "text/html": [
       "<div>\n",
       "<style scoped>\n",
       "    .dataframe tbody tr th:only-of-type {\n",
       "        vertical-align: middle;\n",
       "    }\n",
       "\n",
       "    .dataframe tbody tr th {\n",
       "        vertical-align: top;\n",
       "    }\n",
       "\n",
       "    .dataframe thead th {\n",
       "        text-align: right;\n",
       "    }\n",
       "</style>\n",
       "<table border=\"1\" class=\"dataframe\">\n",
       "  <thead>\n",
       "    <tr style=\"text-align: right;\">\n",
       "      <th></th>\n",
       "      <th>id</th>\n",
       "      <th>Gender</th>\n",
       "      <th>Age</th>\n",
       "      <th>Driving_License</th>\n",
       "      <th>Region_Code</th>\n",
       "      <th>Previously_Insured</th>\n",
       "      <th>Vehicle_Age</th>\n",
       "      <th>Vehicle_Damage</th>\n",
       "      <th>Annual_Premium</th>\n",
       "      <th>Policy_Sales_Channel</th>\n",
       "      <th>Vintage</th>\n",
       "      <th>Response</th>\n",
       "    </tr>\n",
       "  </thead>\n",
       "  <tbody>\n",
       "    <tr>\n",
       "      <th>0</th>\n",
       "      <td>1</td>\n",
       "      <td>0</td>\n",
       "      <td>44</td>\n",
       "      <td>1</td>\n",
       "      <td>28.0</td>\n",
       "      <td>0</td>\n",
       "      <td>&gt; 2 Years</td>\n",
       "      <td>Yes</td>\n",
       "      <td>40454.0</td>\n",
       "      <td>26.0</td>\n",
       "      <td>217</td>\n",
       "      <td>1</td>\n",
       "    </tr>\n",
       "    <tr>\n",
       "      <th>1</th>\n",
       "      <td>2</td>\n",
       "      <td>0</td>\n",
       "      <td>76</td>\n",
       "      <td>1</td>\n",
       "      <td>3.0</td>\n",
       "      <td>0</td>\n",
       "      <td>1-2 Year</td>\n",
       "      <td>No</td>\n",
       "      <td>33536.0</td>\n",
       "      <td>26.0</td>\n",
       "      <td>183</td>\n",
       "      <td>0</td>\n",
       "    </tr>\n",
       "    <tr>\n",
       "      <th>2</th>\n",
       "      <td>3</td>\n",
       "      <td>0</td>\n",
       "      <td>47</td>\n",
       "      <td>1</td>\n",
       "      <td>28.0</td>\n",
       "      <td>0</td>\n",
       "      <td>&gt; 2 Years</td>\n",
       "      <td>Yes</td>\n",
       "      <td>38294.0</td>\n",
       "      <td>26.0</td>\n",
       "      <td>27</td>\n",
       "      <td>1</td>\n",
       "    </tr>\n",
       "    <tr>\n",
       "      <th>3</th>\n",
       "      <td>4</td>\n",
       "      <td>0</td>\n",
       "      <td>21</td>\n",
       "      <td>1</td>\n",
       "      <td>11.0</td>\n",
       "      <td>1</td>\n",
       "      <td>&lt; 1 Year</td>\n",
       "      <td>No</td>\n",
       "      <td>28619.0</td>\n",
       "      <td>152.0</td>\n",
       "      <td>203</td>\n",
       "      <td>0</td>\n",
       "    </tr>\n",
       "    <tr>\n",
       "      <th>4</th>\n",
       "      <td>5</td>\n",
       "      <td>1</td>\n",
       "      <td>29</td>\n",
       "      <td>1</td>\n",
       "      <td>41.0</td>\n",
       "      <td>1</td>\n",
       "      <td>&lt; 1 Year</td>\n",
       "      <td>No</td>\n",
       "      <td>27496.0</td>\n",
       "      <td>152.0</td>\n",
       "      <td>39</td>\n",
       "      <td>0</td>\n",
       "    </tr>\n",
       "  </tbody>\n",
       "</table>\n",
       "</div>"
      ],
      "text/plain": [
       "   id  Gender  Age  Driving_License  Region_Code  Previously_Insured  \\\n",
       "0   1       0   44                1         28.0                   0   \n",
       "1   2       0   76                1          3.0                   0   \n",
       "2   3       0   47                1         28.0                   0   \n",
       "3   4       0   21                1         11.0                   1   \n",
       "4   5       1   29                1         41.0                   1   \n",
       "\n",
       "  Vehicle_Age Vehicle_Damage  Annual_Premium  Policy_Sales_Channel  Vintage  \\\n",
       "0   > 2 Years            Yes         40454.0                  26.0      217   \n",
       "1    1-2 Year             No         33536.0                  26.0      183   \n",
       "2   > 2 Years            Yes         38294.0                  26.0       27   \n",
       "3    < 1 Year             No         28619.0                 152.0      203   \n",
       "4    < 1 Year             No         27496.0                 152.0       39   \n",
       "\n",
       "   Response  \n",
       "0         1  \n",
       "1         0  \n",
       "2         1  \n",
       "3         0  \n",
       "4         0  "
      ]
     },
     "execution_count": 57,
     "metadata": {},
     "output_type": "execute_result"
    }
   ],
   "source": [
    "#GENDER ENCODING\n",
    "gender_mapping={'Male':0, 'Female':1}\n",
    "df['Gender']=df['Gender'].map(gender_mapping)\n",
    "df.head()\n",
    "\n",
    "# 0=MALE\n",
    "# 1=FEMALE"
   ]
  },
  {
   "cell_type": "code",
   "execution_count": 58,
   "metadata": {},
   "outputs": [
    {
     "data": {
      "text/html": [
       "<div>\n",
       "<style scoped>\n",
       "    .dataframe tbody tr th:only-of-type {\n",
       "        vertical-align: middle;\n",
       "    }\n",
       "\n",
       "    .dataframe tbody tr th {\n",
       "        vertical-align: top;\n",
       "    }\n",
       "\n",
       "    .dataframe thead th {\n",
       "        text-align: right;\n",
       "    }\n",
       "</style>\n",
       "<table border=\"1\" class=\"dataframe\">\n",
       "  <thead>\n",
       "    <tr style=\"text-align: right;\">\n",
       "      <th></th>\n",
       "      <th>id</th>\n",
       "      <th>Gender</th>\n",
       "      <th>Age</th>\n",
       "      <th>Driving_License</th>\n",
       "      <th>Region_Code</th>\n",
       "      <th>Previously_Insured</th>\n",
       "      <th>Vehicle_Age</th>\n",
       "      <th>Vehicle_Damage</th>\n",
       "      <th>Annual_Premium</th>\n",
       "      <th>Policy_Sales_Channel</th>\n",
       "      <th>Vintage</th>\n",
       "      <th>Response</th>\n",
       "    </tr>\n",
       "  </thead>\n",
       "  <tbody>\n",
       "    <tr>\n",
       "      <th>0</th>\n",
       "      <td>1</td>\n",
       "      <td>0</td>\n",
       "      <td>44</td>\n",
       "      <td>1</td>\n",
       "      <td>28.0</td>\n",
       "      <td>0</td>\n",
       "      <td>&gt; 2 Years</td>\n",
       "      <td>1</td>\n",
       "      <td>40454.0</td>\n",
       "      <td>26.0</td>\n",
       "      <td>217</td>\n",
       "      <td>1</td>\n",
       "    </tr>\n",
       "    <tr>\n",
       "      <th>1</th>\n",
       "      <td>2</td>\n",
       "      <td>0</td>\n",
       "      <td>76</td>\n",
       "      <td>1</td>\n",
       "      <td>3.0</td>\n",
       "      <td>0</td>\n",
       "      <td>1-2 Year</td>\n",
       "      <td>0</td>\n",
       "      <td>33536.0</td>\n",
       "      <td>26.0</td>\n",
       "      <td>183</td>\n",
       "      <td>0</td>\n",
       "    </tr>\n",
       "    <tr>\n",
       "      <th>2</th>\n",
       "      <td>3</td>\n",
       "      <td>0</td>\n",
       "      <td>47</td>\n",
       "      <td>1</td>\n",
       "      <td>28.0</td>\n",
       "      <td>0</td>\n",
       "      <td>&gt; 2 Years</td>\n",
       "      <td>1</td>\n",
       "      <td>38294.0</td>\n",
       "      <td>26.0</td>\n",
       "      <td>27</td>\n",
       "      <td>1</td>\n",
       "    </tr>\n",
       "    <tr>\n",
       "      <th>3</th>\n",
       "      <td>4</td>\n",
       "      <td>0</td>\n",
       "      <td>21</td>\n",
       "      <td>1</td>\n",
       "      <td>11.0</td>\n",
       "      <td>1</td>\n",
       "      <td>&lt; 1 Year</td>\n",
       "      <td>0</td>\n",
       "      <td>28619.0</td>\n",
       "      <td>152.0</td>\n",
       "      <td>203</td>\n",
       "      <td>0</td>\n",
       "    </tr>\n",
       "    <tr>\n",
       "      <th>4</th>\n",
       "      <td>5</td>\n",
       "      <td>1</td>\n",
       "      <td>29</td>\n",
       "      <td>1</td>\n",
       "      <td>41.0</td>\n",
       "      <td>1</td>\n",
       "      <td>&lt; 1 Year</td>\n",
       "      <td>0</td>\n",
       "      <td>27496.0</td>\n",
       "      <td>152.0</td>\n",
       "      <td>39</td>\n",
       "      <td>0</td>\n",
       "    </tr>\n",
       "  </tbody>\n",
       "</table>\n",
       "</div>"
      ],
      "text/plain": [
       "   id  Gender  Age  Driving_License  Region_Code  Previously_Insured  \\\n",
       "0   1       0   44                1         28.0                   0   \n",
       "1   2       0   76                1          3.0                   0   \n",
       "2   3       0   47                1         28.0                   0   \n",
       "3   4       0   21                1         11.0                   1   \n",
       "4   5       1   29                1         41.0                   1   \n",
       "\n",
       "  Vehicle_Age  Vehicle_Damage  Annual_Premium  Policy_Sales_Channel  Vintage  \\\n",
       "0   > 2 Years               1         40454.0                  26.0      217   \n",
       "1    1-2 Year               0         33536.0                  26.0      183   \n",
       "2   > 2 Years               1         38294.0                  26.0       27   \n",
       "3    < 1 Year               0         28619.0                 152.0      203   \n",
       "4    < 1 Year               0         27496.0                 152.0       39   \n",
       "\n",
       "   Response  \n",
       "0         1  \n",
       "1         0  \n",
       "2         1  \n",
       "3         0  \n",
       "4         0  "
      ]
     },
     "execution_count": 58,
     "metadata": {},
     "output_type": "execute_result"
    }
   ],
   "source": [
    "#VEHICLE_DAMAGE ENCODING\n",
    "vehicle_damage_mapping={'No':0, 'Yes':1}\n",
    "df['Vehicle_Damage']=df['Vehicle_Damage'].map(vehicle_damage_mapping)\n",
    "df.head()\n",
    "# No = 0\n",
    "# Yes = 1"
   ]
  },
  {
   "cell_type": "code",
   "execution_count": 59,
   "metadata": {},
   "outputs": [
    {
     "data": {
      "text/html": [
       "<div>\n",
       "<style scoped>\n",
       "    .dataframe tbody tr th:only-of-type {\n",
       "        vertical-align: middle;\n",
       "    }\n",
       "\n",
       "    .dataframe tbody tr th {\n",
       "        vertical-align: top;\n",
       "    }\n",
       "\n",
       "    .dataframe thead th {\n",
       "        text-align: right;\n",
       "    }\n",
       "</style>\n",
       "<table border=\"1\" class=\"dataframe\">\n",
       "  <thead>\n",
       "    <tr style=\"text-align: right;\">\n",
       "      <th></th>\n",
       "      <th>id</th>\n",
       "      <th>Gender</th>\n",
       "      <th>Age</th>\n",
       "      <th>Driving_License</th>\n",
       "      <th>Region_Code</th>\n",
       "      <th>Previously_Insured</th>\n",
       "      <th>Vehicle_Age</th>\n",
       "      <th>Vehicle_Damage</th>\n",
       "      <th>Annual_Premium</th>\n",
       "      <th>Policy_Sales_Channel</th>\n",
       "      <th>Vintage</th>\n",
       "      <th>Response</th>\n",
       "    </tr>\n",
       "  </thead>\n",
       "  <tbody>\n",
       "    <tr>\n",
       "      <th>0</th>\n",
       "      <td>1</td>\n",
       "      <td>0</td>\n",
       "      <td>44</td>\n",
       "      <td>1</td>\n",
       "      <td>28.0</td>\n",
       "      <td>0</td>\n",
       "      <td>3</td>\n",
       "      <td>1</td>\n",
       "      <td>40454.0</td>\n",
       "      <td>26.0</td>\n",
       "      <td>217</td>\n",
       "      <td>1</td>\n",
       "    </tr>\n",
       "    <tr>\n",
       "      <th>1</th>\n",
       "      <td>2</td>\n",
       "      <td>0</td>\n",
       "      <td>76</td>\n",
       "      <td>1</td>\n",
       "      <td>3.0</td>\n",
       "      <td>0</td>\n",
       "      <td>2</td>\n",
       "      <td>0</td>\n",
       "      <td>33536.0</td>\n",
       "      <td>26.0</td>\n",
       "      <td>183</td>\n",
       "      <td>0</td>\n",
       "    </tr>\n",
       "    <tr>\n",
       "      <th>2</th>\n",
       "      <td>3</td>\n",
       "      <td>0</td>\n",
       "      <td>47</td>\n",
       "      <td>1</td>\n",
       "      <td>28.0</td>\n",
       "      <td>0</td>\n",
       "      <td>3</td>\n",
       "      <td>1</td>\n",
       "      <td>38294.0</td>\n",
       "      <td>26.0</td>\n",
       "      <td>27</td>\n",
       "      <td>1</td>\n",
       "    </tr>\n",
       "    <tr>\n",
       "      <th>3</th>\n",
       "      <td>4</td>\n",
       "      <td>0</td>\n",
       "      <td>21</td>\n",
       "      <td>1</td>\n",
       "      <td>11.0</td>\n",
       "      <td>1</td>\n",
       "      <td>1</td>\n",
       "      <td>0</td>\n",
       "      <td>28619.0</td>\n",
       "      <td>152.0</td>\n",
       "      <td>203</td>\n",
       "      <td>0</td>\n",
       "    </tr>\n",
       "    <tr>\n",
       "      <th>4</th>\n",
       "      <td>5</td>\n",
       "      <td>1</td>\n",
       "      <td>29</td>\n",
       "      <td>1</td>\n",
       "      <td>41.0</td>\n",
       "      <td>1</td>\n",
       "      <td>1</td>\n",
       "      <td>0</td>\n",
       "      <td>27496.0</td>\n",
       "      <td>152.0</td>\n",
       "      <td>39</td>\n",
       "      <td>0</td>\n",
       "    </tr>\n",
       "  </tbody>\n",
       "</table>\n",
       "</div>"
      ],
      "text/plain": [
       "   id  Gender  Age  Driving_License  Region_Code  Previously_Insured  \\\n",
       "0   1       0   44                1         28.0                   0   \n",
       "1   2       0   76                1          3.0                   0   \n",
       "2   3       0   47                1         28.0                   0   \n",
       "3   4       0   21                1         11.0                   1   \n",
       "4   5       1   29                1         41.0                   1   \n",
       "\n",
       "   Vehicle_Age  Vehicle_Damage  Annual_Premium  Policy_Sales_Channel  Vintage  \\\n",
       "0            3               1         40454.0                  26.0      217   \n",
       "1            2               0         33536.0                  26.0      183   \n",
       "2            3               1         38294.0                  26.0       27   \n",
       "3            1               0         28619.0                 152.0      203   \n",
       "4            1               0         27496.0                 152.0       39   \n",
       "\n",
       "   Response  \n",
       "0         1  \n",
       "1         0  \n",
       "2         1  \n",
       "3         0  \n",
       "4         0  "
      ]
     },
     "execution_count": 59,
     "metadata": {},
     "output_type": "execute_result"
    }
   ],
   "source": [
    "#VEHICLE_AGE ENCODING\n",
    "vehicle_age_mapping = {'> 2 Years': 3, '1-2 Year': 2, '< 1 Year': 1}\n",
    "df['Vehicle_Age'] = df['Vehicle_Age'].replace(vehicle_age_mapping)\n",
    "df.head()\n",
    "# < 1 Year = 1\n",
    "# 1-2 Years = 2\n",
    "# > 2 Years = 3"
   ]
  },
  {
   "cell_type": "markdown",
   "metadata": {},
   "source": [
    "--------------------------------------------------------------------------------------------------------------------------------------------------------------------------------------"
   ]
  },
  {
   "cell_type": "markdown",
   "metadata": {},
   "source": [
    "4-CHECK BALANCING OF THE TARGET VARIABLE (RESPONSE) AND OTHER VARIABLES"
   ]
  },
  {
   "cell_type": "code",
   "execution_count": 60,
   "metadata": {},
   "outputs": [
    {
     "data": {
      "text/plain": [
       "0    334399\n",
       "1     46710\n",
       "Name: Response, dtype: int64"
      ]
     },
     "execution_count": 60,
     "metadata": {},
     "output_type": "execute_result"
    }
   ],
   "source": [
    "#RESPONSE \n",
    "counts_response=df['Response'].value_counts()\n",
    "counts_response\n",
    "\n",
    "\n",
    "#The dataset is rather unbalanced towards a negative response to the proposal to purchase the policy (indicated with 0)"
   ]
  },
  {
   "cell_type": "code",
   "execution_count": 61,
   "metadata": {},
   "outputs": [
    {
     "name": "stdout",
     "output_type": "stream",
     "text": [
      "NEGATIVE ANSWER:334399  (87.74%)\n",
      "POSTIIVE ANSWER:46710  (12.26%)\n"
     ]
    }
   ],
   "source": [
    "print(f\"NEGATIVE ANSWER:{counts_response[0]}  ({counts_response[0]/counts_response.sum()*100:.2f}%)\")\n",
    "print(f\"POSTIIVE ANSWER:{counts_response[1]}  ({counts_response[1]/counts_response.sum()*100:.2f}%)\")"
   ]
  },
  {
   "cell_type": "code",
   "execution_count": 62,
   "metadata": {},
   "outputs": [
    {
     "data": {
      "text/plain": [
       "0    206481\n",
       "1    174628\n",
       "Name: Previously_Insured, dtype: int64"
      ]
     },
     "execution_count": 62,
     "metadata": {},
     "output_type": "execute_result"
    }
   ],
   "source": [
    "#PREVIOUSLY_INSURED\n",
    "counts_previously_insured=df['Previously_Insured'].value_counts()\n",
    "counts_previously_insured"
   ]
  },
  {
   "cell_type": "code",
   "execution_count": 63,
   "metadata": {},
   "outputs": [
    {
     "data": {
      "text/plain": [
       "152.0    134784\n",
       "26.0      79700\n",
       "124.0     73995\n",
       "160.0     21779\n",
       "156.0     10661\n",
       "          ...  \n",
       "149.0         1\n",
       "43.0          1\n",
       "144.0         1\n",
       "143.0         1\n",
       "41.0          1\n",
       "Name: Policy_Sales_Channel, Length: 155, dtype: int64"
      ]
     },
     "execution_count": 63,
     "metadata": {},
     "output_type": "execute_result"
    }
   ],
   "source": [
    "#POLICY_SALESE_CHANNEL\n",
    "counts_policy_sales_channel=df['Policy_Sales_Channel'].value_counts()\n",
    "counts_policy_sales_channel"
   ]
  },
  {
   "cell_type": "markdown",
   "metadata": {},
   "source": [
    "-------------------------------------------------------------------------------------------------------------------------------------------------------------------------------------"
   ]
  },
  {
   "cell_type": "markdown",
   "metadata": {},
   "source": [
    "5- VARIABLES CORRELATION"
   ]
  },
  {
   "cell_type": "code",
   "execution_count": 64,
   "metadata": {},
   "outputs": [],
   "source": [
    "#CORRELATION MATRIX\n",
    "\n",
    "def create_heatmap(df):\n",
    "    plt.figure(figsize=(12,6))  #It is used to decide the size of the graph\n",
    "    sns.heatmap(df.corr(), annot=True, annot_kws={\"size\":10}) \n",
    "    plt.show()"
   ]
  },
  {
   "cell_type": "code",
   "execution_count": 65,
   "metadata": {},
   "outputs": [
    {
     "data": {
      "image/png": "[encoded data removed]",
      "text/plain": [
       "<Figure size 1200x600 with 2 Axes>"
      ]
     },
     "metadata": {},
     "output_type": "display_data"
    }
   ],
   "source": [
    "create_heatmap(df)"
   ]
  },
  {
   "cell_type": "markdown",
   "metadata": {},
   "source": [
    "The variables Drivin_License, Vintage, Annual_Premium and Region_Code seem to have little correlation with the other variables, so we remove them from the model and see what happens"
   ]
  },
  {
   "cell_type": "code",
   "execution_count": 66,
   "metadata": {},
   "outputs": [
    {
     "data": {
      "text/html": [
       "<div>\n",
       "<style scoped>\n",
       "    .dataframe tbody tr th:only-of-type {\n",
       "        vertical-align: middle;\n",
       "    }\n",
       "\n",
       "    .dataframe tbody tr th {\n",
       "        vertical-align: top;\n",
       "    }\n",
       "\n",
       "    .dataframe thead th {\n",
       "        text-align: right;\n",
       "    }\n",
       "</style>\n",
       "<table border=\"1\" class=\"dataframe\">\n",
       "  <thead>\n",
       "    <tr style=\"text-align: right;\">\n",
       "      <th></th>\n",
       "      <th>id</th>\n",
       "      <th>Gender</th>\n",
       "      <th>Age</th>\n",
       "      <th>Previously_Insured</th>\n",
       "      <th>Vehicle_Age</th>\n",
       "      <th>Vehicle_Damage</th>\n",
       "      <th>Policy_Sales_Channel</th>\n",
       "      <th>Response</th>\n",
       "    </tr>\n",
       "  </thead>\n",
       "  <tbody>\n",
       "    <tr>\n",
       "      <th>0</th>\n",
       "      <td>1</td>\n",
       "      <td>0</td>\n",
       "      <td>44</td>\n",
       "      <td>0</td>\n",
       "      <td>3</td>\n",
       "      <td>1</td>\n",
       "      <td>26.0</td>\n",
       "      <td>1</td>\n",
       "    </tr>\n",
       "    <tr>\n",
       "      <th>1</th>\n",
       "      <td>2</td>\n",
       "      <td>0</td>\n",
       "      <td>76</td>\n",
       "      <td>0</td>\n",
       "      <td>2</td>\n",
       "      <td>0</td>\n",
       "      <td>26.0</td>\n",
       "      <td>0</td>\n",
       "    </tr>\n",
       "    <tr>\n",
       "      <th>2</th>\n",
       "      <td>3</td>\n",
       "      <td>0</td>\n",
       "      <td>47</td>\n",
       "      <td>0</td>\n",
       "      <td>3</td>\n",
       "      <td>1</td>\n",
       "      <td>26.0</td>\n",
       "      <td>1</td>\n",
       "    </tr>\n",
       "    <tr>\n",
       "      <th>3</th>\n",
       "      <td>4</td>\n",
       "      <td>0</td>\n",
       "      <td>21</td>\n",
       "      <td>1</td>\n",
       "      <td>1</td>\n",
       "      <td>0</td>\n",
       "      <td>152.0</td>\n",
       "      <td>0</td>\n",
       "    </tr>\n",
       "    <tr>\n",
       "      <th>4</th>\n",
       "      <td>5</td>\n",
       "      <td>1</td>\n",
       "      <td>29</td>\n",
       "      <td>1</td>\n",
       "      <td>1</td>\n",
       "      <td>0</td>\n",
       "      <td>152.0</td>\n",
       "      <td>0</td>\n",
       "    </tr>\n",
       "  </tbody>\n",
       "</table>\n",
       "</div>"
      ],
      "text/plain": [
       "   id  Gender  Age  Previously_Insured  Vehicle_Age  Vehicle_Damage  \\\n",
       "0   1       0   44                   0            3               1   \n",
       "1   2       0   76                   0            2               0   \n",
       "2   3       0   47                   0            3               1   \n",
       "3   4       0   21                   1            1               0   \n",
       "4   5       1   29                   1            1               0   \n",
       "\n",
       "   Policy_Sales_Channel  Response  \n",
       "0                  26.0         1  \n",
       "1                  26.0         0  \n",
       "2                  26.0         1  \n",
       "3                 152.0         0  \n",
       "4                 152.0         0  "
      ]
     },
     "execution_count": 66,
     "metadata": {},
     "output_type": "execute_result"
    }
   ],
   "source": [
    "df=df.drop(['Driving_License', 'Vintage', 'Annual_Premium', 'Region_Code'], axis=1)\n",
    "df.head()"
   ]
  },
  {
   "cell_type": "markdown",
   "metadata": {},
   "source": [
    "----------------------------------------------------------------------------------------------------------------------------------------------------------------------------------"
   ]
  },
  {
   "cell_type": "markdown",
   "metadata": {},
   "source": [
    "6- MODEL CREATION"
   ]
  },
  {
   "cell_type": "code",
   "execution_count": 80,
   "metadata": {},
   "outputs": [],
   "source": [
    "X=df.drop('Response', axis=1).values\n",
    "y=df['Response'].values\n",
    "\n",
    "\n",
    "def model_1(df):\n",
    "    X_train, X_test, y_train, y_test=train_test_split(X, y, test_size=0.3)\n",
    "\n",
    "    ss=StandardScaler()\n",
    "    X_train=ss.fit_transform(X_train)\n",
    "    X_test=ss.transform(X_test)\n",
    "\n",
    "    lr=LogisticRegression(class_weight=\"balanced\")  #inserting class_weight=\"balanced\", as the classes are rather unbalanced towards a greater frequency of negative response data\n",
    "                                                    #the most frequent class will be penalized\n",
    "    lr.fit(X_train, y_train) \n",
    "\n",
    "    #WE CALCULATE THE PREDICTIONS FOR THE SET TRAIN AND THE SET TEST, AND THE RESPECTIVE PROBABILITIES\n",
    "    y_pred_train=lr.predict(X_train)\n",
    "    y_proba_train=lr.predict_proba(X_train)\n",
    "    y_pred_test=lr.predict(X_test)\n",
    "    y_proba_test=lr.predict_proba(X_test)\n",
    "\n",
    "    return lr, ss,X_train, X_test, y_train, y_test, y_pred_train, y_proba_train, y_pred_test, y_proba_test"
   ]
  },
  {
   "cell_type": "markdown",
   "metadata": {},
   "source": [
    "7-MODEL EVALUATION"
   ]
  },
  {
   "cell_type": "code",
   "execution_count": 81,
   "metadata": {},
   "outputs": [],
   "source": [
    "from sklearn.metrics import classification_report\n",
    "\n",
    "def evaluate_model(y_true, y_pred):\n",
    "    report = classification_report(y_true, y_pred)\n",
    "    return report"
   ]
  },
  {
   "cell_type": "code",
   "execution_count": 82,
   "metadata": {},
   "outputs": [
    {
     "name": "stdout",
     "output_type": "stream",
     "text": [
      "Classification Report - Train Set:\n",
      "              precision    recall  f1-score   support\n",
      "\n",
      "           0       0.99      0.59      0.74    234159\n",
      "           1       0.25      0.98      0.40     32617\n",
      "\n",
      "    accuracy                           0.64    266776\n",
      "   macro avg       0.62      0.78      0.57    266776\n",
      "weighted avg       0.90      0.64      0.70    266776\n",
      "\n",
      "-----------------------------------------------------------------\n",
      "Classification Report - Test Set:\n",
      "              precision    recall  f1-score   support\n",
      "\n",
      "           0       0.99      0.59      0.74    100240\n",
      "           1       0.25      0.98      0.40     14093\n",
      "\n",
      "    accuracy                           0.64    114333\n",
      "   macro avg       0.62      0.78      0.57    114333\n",
      "weighted avg       0.90      0.64      0.70    114333\n",
      "\n"
     ]
    }
   ],
   "source": [
    "# Training of logistic regression model_1\n",
    "lr,ss, X_train, X_test, y_train, y_test, y_pred_train, y_proba_train, y_pred_test, y_proba_test = model_1(df)\n",
    "\n",
    "# Evaluation model\n",
    "train_report = evaluate_model(y_train, y_pred_train)\n",
    "test_report = evaluate_model(y_test, y_pred_test)\n",
    "\n",
    "print(\"Classification Report - Train Set:\")\n",
    "print(train_report)\n",
    "print(\"-----------------------------------------------------------------\")\n",
    "print(\"Classification Report - Test Set:\")\n",
    "print(test_report)\n",
    "\n",
    "#the imbalance between samples that gave a negative response and those that gave a negative response is too great, therefore while a very high precision results\n",
    "#for class 0 (negative response), it is very low for class 1. Even class_weight=\"balanced\" did not solve the problem, we should therefore create a balanced dataset"
   ]
  },
  {
   "cell_type": "markdown",
   "metadata": {},
   "source": [
    "The model does not present optimal values, in particular with regard to the positive class identified with the value 1 (i.e. the customers who gave a positive response to the policy proposal) in the target variable \"Response\".\n",
    "In fact, the model presents a precision value of 0.25 for the positive class for both the training and test sets (while for the negative class it is 0.99). The recall value, however, is very high, 0.98. The accuracy is 64%, so not very high.\n",
    "Overall however, considering that the creation of the model should serve to identify potential customers interested in subscribing to a policy, we can say that a recall of 0.98 for class 1 means that the model is able to correctly identify 98% of potential buyers among the actual data belonging to that class. However, the low precision (0.25) for class 1 indicates that the model has a fairly high probability of making classification errors in class 1, i.e. classifying customers as potential buyers who in reality are not; thus the model could identify many false positives in class 1.\n",
    "In conclusion, if we assume that we have identified a potential buyer with a high probability of purchasing the policy based on high recall, we must keep in mind that we may have classified him as a false positive and therefore he is not actually interested in the policy. However, considering that in the original dataset the individuals who showed themselves willing to purchase were only 12.26%, the 25% probability of identifying a potential buyer among those present in that class is certainly more acceptable.\n",
    "The metrics are similar on both the training and test sets, so we shouldn't worry about overfitting.\n",
    "Let's try to improve the model by balancing the target variable Response, which is very unbalanced in favor of class 0."
   ]
  },
  {
   "cell_type": "markdown",
   "metadata": {},
   "source": [
    "--------------------------------------------------------------------------------------------------------------------------------------------------------------------------------------"
   ]
  },
  {
   "cell_type": "markdown",
   "metadata": {},
   "source": [
    "8- UNDERSAMPLING"
   ]
  },
  {
   "cell_type": "code",
   "execution_count": 71,
   "metadata": {},
   "outputs": [],
   "source": [
    "\n",
    "from imblearn.under_sampling import RandomUnderSampler"
   ]
  },
  {
   "cell_type": "code",
   "execution_count": 72,
   "metadata": {},
   "outputs": [],
   "source": [
    "def model_2(df):\n",
    "    X_train, X_test, y_train, y_test = train_test_split(X, y, test_size=0.3)\n",
    "    \n",
    "    rus = RandomUnderSampler(random_state=0)\n",
    "    X_train_resampled, y_train_resampled = rus.fit_resample(X_train, y_train)\n",
    "    \n",
    "    ss = StandardScaler()\n",
    "    X_train_resampled = ss.fit_transform(X_train_resampled)\n",
    "    X_test = ss.transform(X_test)\n",
    "    \n",
    "    lr = LogisticRegression(class_weight=\"balanced\")\n",
    "    lr.fit(X_train_resampled, y_train_resampled)\n",
    "    \n",
    "    y_pred_train = lr.predict(X_train_resampled)\n",
    "    y_proba_train = lr.predict_proba(X_train_resampled)\n",
    "    y_pred_test = lr.predict(X_test)\n",
    "    y_proba_test = lr.predict_proba(X_test)\n",
    "    \n",
    "    train_report = classification_report(y_train_resampled, y_pred_train)\n",
    "    test_report = classification_report(y_test, y_pred_test)\n",
    "    \n",
    "    return lr, X_train_resampled, X_test, y_train_resampled, y_test, y_pred_train, y_proba_train, y_pred_test, y_proba_test, train_report, test_report"
   ]
  },
  {
   "cell_type": "code",
   "execution_count": 73,
   "metadata": {},
   "outputs": [
    {
     "name": "stdout",
     "output_type": "stream",
     "text": [
      "Classification Report - Train Set (Model 2):\n",
      "              precision    recall  f1-score   support\n",
      "\n",
      "           0       0.96      0.59      0.73     32746\n",
      "           1       0.70      0.98      0.82     32746\n",
      "\n",
      "    accuracy                           0.78     65492\n",
      "   macro avg       0.83      0.78      0.77     65492\n",
      "weighted avg       0.83      0.78      0.77     65492\n",
      "\n",
      "------------------------------------------------------------\n",
      "Classification Report - Test Set (Model 2):\n",
      "              precision    recall  f1-score   support\n",
      "\n",
      "           0       0.99      0.59      0.74    100369\n",
      "           1       0.25      0.98      0.40     13964\n",
      "\n",
      "    accuracy                           0.64    114333\n",
      "   macro avg       0.62      0.78      0.57    114333\n",
      "weighted avg       0.90      0.64      0.70    114333\n",
      "\n"
     ]
    }
   ],
   "source": [
    "# training and evaluation of the second model (model_2)\n",
    "lr, X_train_resampled, X_test, y_train_resampled, y_test, y_pred_train, y_proba_train, y_pred_test, y_proba_test, train_report, test_report = model_2(df)\n",
    "\n",
    "print(\"Classification Report - Train Set (Model 2):\")\n",
    "print(train_report)\n",
    "print(\"------------------------------------------------------------\")\n",
    "print(\"Classification Report - Test Set (Model 2):\")\n",
    "print(test_report)"
   ]
  },
  {
   "cell_type": "markdown",
   "metadata": {},
   "source": [
    "After undersapling by balancing the classes of the training set, the metrics seem to be much better than the previous model in the training set. In particular for class 1 the precision rises to 0.71 for the training set, which means that now the model will have a 70% probability of identifying a person interested in purchasing the policy and that 98% will be interested in purchasing it. However, the test set has low precision and lower accuracy, so there seems to be overfitting."
   ]
  },
  {
   "cell_type": "markdown",
   "metadata": {},
   "source": [
    "-------------------------------------------------------------------------------------------------------------------------------------------------------------------------------------"
   ]
  },
  {
   "cell_type": "markdown",
   "metadata": {},
   "source": [
    "REGULARIZATION"
   ]
  },
  {
   "cell_type": "code",
   "execution_count": 74,
   "metadata": {},
   "outputs": [],
   "source": [
    "\n",
    "from sklearn.linear_model import LogisticRegressionCV"
   ]
  },
  {
   "cell_type": "code",
   "execution_count": 75,
   "metadata": {},
   "outputs": [],
   "source": [
    "def model_2_with_regularization(df):   \n",
    "    X_train, X_test, y_train, y_test = train_test_split(X, y, test_size=0.3)\n",
    "    \n",
    "    rus = RandomUnderSampler(random_state=0)\n",
    "    X_train_resampled, y_train_resampled = rus.fit_resample(X_train, y_train)\n",
    "    \n",
    "    ss = StandardScaler()\n",
    "    X_train_resampled = ss.fit_transform(X_train_resampled)\n",
    "    X_test = ss.transform(X_test)\n",
    "    \n",
    "    # Adding L1 regularization\n",
    "    lr = LogisticRegressionCV(penalty='l2', solver='liblinear', class_weight=\"balanced\", cv=5)\n",
    "    lr.fit(X_train_resampled, y_train_resampled)\n",
    "    \n",
    "    y_pred_train = lr.predict(X_train_resampled)\n",
    "    y_proba_train = lr.predict_proba(X_train_resampled)\n",
    "    y_pred_test = lr.predict(X_test)\n",
    "    y_proba_test = lr.predict_proba(X_test)\n",
    "    \n",
    "    train_report = classification_report(y_train_resampled, y_pred_train)\n",
    "    test_report = classification_report(y_test, y_pred_test)\n",
    "    \n",
    "    return lr, X_train_resampled, X_test, y_train_resampled, y_test, y_pred_train, y_proba_train, y_pred_test, y_proba_test, train_report, test_report"
   ]
  },
  {
   "cell_type": "code",
   "execution_count": 76,
   "metadata": {},
   "outputs": [
    {
     "name": "stdout",
     "output_type": "stream",
     "text": [
      "Classification Report - Train Set (Model 2):\n",
      "              precision    recall  f1-score   support\n",
      "\n",
      "           0       0.96      0.59      0.73     32793\n",
      "           1       0.71      0.98      0.82     32793\n",
      "\n",
      "    accuracy                           0.78     65586\n",
      "   macro avg       0.83      0.78      0.78     65586\n",
      "weighted avg       0.83      0.78      0.78     65586\n",
      "\n",
      "------------------------------------------------------------\n",
      "Classification Report - Test Set (Model 2):\n",
      "              precision    recall  f1-score   support\n",
      "\n",
      "           0       0.99      0.59      0.74    100416\n",
      "           1       0.25      0.98      0.40     13917\n",
      "\n",
      "    accuracy                           0.64    114333\n",
      "   macro avg       0.62      0.78      0.57    114333\n",
      "weighted avg       0.90      0.64      0.70    114333\n",
      "\n"
     ]
    }
   ],
   "source": [
    "lr, X_train_resampled, X_test, y_train_resampled, y_test, y_pred_train, y_proba_train, y_pred_test, y_proba_test, train_report, test_report = model_2_with_regularization(df)\n",
    "\n",
    "print(\"Classification Report - Train Set (Model 2):\")\n",
    "print(train_report)\n",
    "print(\"------------------------------------------------------------\")\n",
    "print(\"Classification Report - Test Set (Model 2):\")\n",
    "print(test_report)"
   ]
  },
  {
   "cell_type": "markdown",
   "metadata": {},
   "source": [
    "Despite the regularization there continues to be overfitting, so I would use model 1, which despite having non-optimal values, does not present overfitting"
   ]
  },
  {
   "cell_type": "markdown",
   "metadata": {},
   "source": [
    "-----------------------------------------------------------------------------------------------------------------------------------------------------------------------------------"
   ]
  },
  {
   "cell_type": "markdown",
   "metadata": {},
   "source": [
    "CROSS VALIDATION"
   ]
  },
  {
   "cell_type": "code",
   "execution_count": 77,
   "metadata": {},
   "outputs": [],
   "source": [
    "from sklearn.model_selection import cross_validate\n",
    "\n",
    "def model_2_with_cross_val(df, cv=5):\n",
    "    \n",
    "    X_train, X_test, y_train, y_test = train_test_split(X, y, test_size=0.3)\n",
    "\n",
    "    rus = RandomUnderSampler(random_state=0)\n",
    "    X_train_resampled, y_train_resampled = rus.fit_resample(X_train, y_train)\n",
    "\n",
    "    ss = StandardScaler()\n",
    "    X_train_resampled = ss.fit_transform(X_train_resampled)\n",
    "    X_test = ss.transform(X_test)\n",
    "\n",
    "    # Adding L1 regularization\n",
    "    lr = LogisticRegressionCV(penalty='l2', solver='liblinear', class_weight=\"balanced\", cv=cv)\n",
    "\n",
    "    # model training\n",
    "    lr.fit(X_train_resampled, y_train_resampled)\n",
    "\n",
    "    scoring = ['accuracy', 'precision', 'recall', 'f1']\n",
    "    results = cross_validate(lr, X_train_resampled, y_train_resampled, cv=cv, scoring=scoring, return_train_score=True)\n",
    "\n",
    "    # Predictions on the training set\n",
    "    y_pred_train = lr.predict(X_train_resampled)\n",
    "    y_proba_train = lr.predict_proba(X_train_resampled)\n",
    "\n",
    "    # Predictions on the test set\n",
    "    y_pred_test = lr.predict(X_test)\n",
    "    y_proba_test = lr.predict_proba(X_test)\n",
    "\n",
    "    # classification reports\n",
    "    train_report = classification_report(y_train_resampled, y_pred_train)\n",
    "    test_report = classification_report(y_test, y_pred_test)\n",
    "\n",
    "    return lr, X_train_resampled, X_test, y_train_resampled, y_test, y_pred_train, y_proba_train, y_pred_test, y_proba_test, train_report, test_report, results"
   ]
  },
  {
   "cell_type": "code",
   "execution_count": 78,
   "metadata": {},
   "outputs": [
    {
     "name": "stdout",
     "output_type": "stream",
     "text": [
      "cross-validation results:\n",
      "Accuracy - Train set:  0.78\n",
      "Accuracy - Test set:  0.78\n",
      "------------------------------------------------------------------\n",
      "Precision - Train set:  0.70\n",
      "Precision - Test set:  0.70\n",
      "------------------------------------------------------------------\n",
      "Recall - Train set:  0.98\n",
      "Recall - Test set:  0.98\n",
      "------------------------------------------------------------------\n",
      "F1-score - Train set:  0.82\n",
      "F1-score - Test set:  0.82\n"
     ]
    }
   ],
   "source": [
    "\n",
    "lr, X_train_resampled, X_test, y_train_resampled, y_test, y_pred_train, y_proba_train, y_pred_test, y_proba_test, train_report, test_report, results = model_2_with_cross_val(df)\n",
    "\n",
    "print(\"cross-validation results:\")\n",
    "print(\"Accuracy - Train set: \",\"{:.2f}\".format( np.mean(results['train_accuracy'])))\n",
    "print(\"Accuracy - Test set: \",\"{:.2f}\".format( np.mean(results['test_accuracy'])))\n",
    "print(\"------------------------------------------------------------------\")\n",
    "print(\"Precision - Train set: \",\"{:.2f}\".format( np.mean(results['train_precision'])))\n",
    "print(\"Precision - Test set: \",\"{:.2f}\".format( np.mean(results['test_precision'])))\n",
    "print(\"------------------------------------------------------------------\")\n",
    "print(\"Recall - Train set: \",\"{:.2f}\".format( np.mean(results['train_recall'])))\n",
    "print(\"Recall - Test set: \",\"{:.2f}\".format( np.mean(results['test_recall'])))\n",
    "print(\"------------------------------------------------------------------\")\n",
    "print(\"F1-score - Train set: \",\"{:.2f}\".format( np.mean(results['train_f1'])))\n",
    "print(\"F1-score - Test set: \",\"{:.2f}\".format( np.mean(results['test_f1'])))"
   ]
  },
  {
   "cell_type": "markdown",
   "metadata": {},
   "source": [
    "the cross validation results look good and don't even seem to suffer from overfitting, so we will choose this model over the others"
   ]
  },
  {
   "cell_type": "markdown",
   "metadata": {},
   "source": [
    "-----------------------------------------------------------------------------------------------------------------------------------------------------------------------------------"
   ]
  },
  {
   "cell_type": "markdown",
   "metadata": {},
   "source": [
    "MODEL TEST ON A NEW DATASET"
   ]
  },
  {
   "cell_type": "code",
   "execution_count": 83,
   "metadata": {},
   "outputs": [],
   "source": [
    "new_df=pd.read_csv(\"previsione.csv\")\n",
    "gender_mapping={'Male':0, 'Female':1}\n",
    "new_df['Gender']=new_df['Gender'].map(gender_mapping)"
   ]
  },
  {
   "cell_type": "code",
   "execution_count": 84,
   "metadata": {},
   "outputs": [],
   "source": [
    "vehicle_damage_mapping={'No':0, 'Yes':1}\n",
    "new_df['Vehicle_Damage']=new_df['Vehicle_Damage'].map(vehicle_damage_mapping)"
   ]
  },
  {
   "cell_type": "code",
   "execution_count": 85,
   "metadata": {},
   "outputs": [
    {
     "data": {
      "text/html": [
       "<div>\n",
       "<style scoped>\n",
       "    .dataframe tbody tr th:only-of-type {\n",
       "        vertical-align: middle;\n",
       "    }\n",
       "\n",
       "    .dataframe tbody tr th {\n",
       "        vertical-align: top;\n",
       "    }\n",
       "\n",
       "    .dataframe thead th {\n",
       "        text-align: right;\n",
       "    }\n",
       "</style>\n",
       "<table border=\"1\" class=\"dataframe\">\n",
       "  <thead>\n",
       "    <tr style=\"text-align: right;\">\n",
       "      <th></th>\n",
       "      <th>id</th>\n",
       "      <th>Gender</th>\n",
       "      <th>Age</th>\n",
       "      <th>Driving_License</th>\n",
       "      <th>Region_Code</th>\n",
       "      <th>Previously_Insured</th>\n",
       "      <th>Vehicle_Age</th>\n",
       "      <th>Vehicle_Damage</th>\n",
       "      <th>Annual_Premium</th>\n",
       "      <th>Policy_Sales_Channel</th>\n",
       "      <th>Vintage</th>\n",
       "    </tr>\n",
       "  </thead>\n",
       "  <tbody>\n",
       "    <tr>\n",
       "      <th>0</th>\n",
       "      <td>54</td>\n",
       "      <td>0</td>\n",
       "      <td>44</td>\n",
       "      <td>1</td>\n",
       "      <td>28.0</td>\n",
       "      <td>0</td>\n",
       "      <td>3</td>\n",
       "      <td>1</td>\n",
       "      <td>40454.0</td>\n",
       "      <td>26.0</td>\n",
       "      <td>217</td>\n",
       "    </tr>\n",
       "    <tr>\n",
       "      <th>1</th>\n",
       "      <td>68</td>\n",
       "      <td>0</td>\n",
       "      <td>76</td>\n",
       "      <td>1</td>\n",
       "      <td>3.0</td>\n",
       "      <td>0</td>\n",
       "      <td>2</td>\n",
       "      <td>0</td>\n",
       "      <td>33536.0</td>\n",
       "      <td>26.0</td>\n",
       "      <td>183</td>\n",
       "    </tr>\n",
       "    <tr>\n",
       "      <th>2</th>\n",
       "      <td>896</td>\n",
       "      <td>0</td>\n",
       "      <td>47</td>\n",
       "      <td>1</td>\n",
       "      <td>28.0</td>\n",
       "      <td>0</td>\n",
       "      <td>3</td>\n",
       "      <td>1</td>\n",
       "      <td>38294.0</td>\n",
       "      <td>26.0</td>\n",
       "      <td>27</td>\n",
       "    </tr>\n",
       "    <tr>\n",
       "      <th>3</th>\n",
       "      <td>56</td>\n",
       "      <td>0</td>\n",
       "      <td>21</td>\n",
       "      <td>1</td>\n",
       "      <td>11.0</td>\n",
       "      <td>1</td>\n",
       "      <td>1</td>\n",
       "      <td>0</td>\n",
       "      <td>28619.0</td>\n",
       "      <td>152.0</td>\n",
       "      <td>203</td>\n",
       "    </tr>\n",
       "    <tr>\n",
       "      <th>4</th>\n",
       "      <td>154</td>\n",
       "      <td>1</td>\n",
       "      <td>29</td>\n",
       "      <td>1</td>\n",
       "      <td>41.0</td>\n",
       "      <td>1</td>\n",
       "      <td>1</td>\n",
       "      <td>1</td>\n",
       "      <td>27496.0</td>\n",
       "      <td>152.0</td>\n",
       "      <td>39</td>\n",
       "    </tr>\n",
       "  </tbody>\n",
       "</table>\n",
       "</div>"
      ],
      "text/plain": [
       "    id  Gender  Age  Driving_License  Region_Code  Previously_Insured  \\\n",
       "0   54       0   44                1         28.0                   0   \n",
       "1   68       0   76                1          3.0                   0   \n",
       "2  896       0   47                1         28.0                   0   \n",
       "3   56       0   21                1         11.0                   1   \n",
       "4  154       1   29                1         41.0                   1   \n",
       "\n",
       "   Vehicle_Age  Vehicle_Damage  Annual_Premium  Policy_Sales_Channel  Vintage  \n",
       "0            3               1         40454.0                  26.0      217  \n",
       "1            2               0         33536.0                  26.0      183  \n",
       "2            3               1         38294.0                  26.0       27  \n",
       "3            1               0         28619.0                 152.0      203  \n",
       "4            1               1         27496.0                 152.0       39  "
      ]
     },
     "execution_count": 85,
     "metadata": {},
     "output_type": "execute_result"
    }
   ],
   "source": [
    "vehicle_age_mapping = {'> 2 Years': 3, '1-2 Year': 2, '< 1 Year': 1}\n",
    "new_df['Vehicle_Age'] = new_df['Vehicle_Age'].replace(vehicle_age_mapping)\n",
    "new_df.head()"
   ]
  },
  {
   "cell_type": "code",
   "execution_count": 86,
   "metadata": {},
   "outputs": [
    {
     "data": {
      "text/html": [
       "<div>\n",
       "<style scoped>\n",
       "    .dataframe tbody tr th:only-of-type {\n",
       "        vertical-align: middle;\n",
       "    }\n",
       "\n",
       "    .dataframe tbody tr th {\n",
       "        vertical-align: top;\n",
       "    }\n",
       "\n",
       "    .dataframe thead th {\n",
       "        text-align: right;\n",
       "    }\n",
       "</style>\n",
       "<table border=\"1\" class=\"dataframe\">\n",
       "  <thead>\n",
       "    <tr style=\"text-align: right;\">\n",
       "      <th></th>\n",
       "      <th>id</th>\n",
       "      <th>Gender</th>\n",
       "      <th>Age</th>\n",
       "      <th>Previously_Insured</th>\n",
       "      <th>Vehicle_Age</th>\n",
       "      <th>Vehicle_Damage</th>\n",
       "      <th>Policy_Sales_Channel</th>\n",
       "    </tr>\n",
       "  </thead>\n",
       "  <tbody>\n",
       "    <tr>\n",
       "      <th>0</th>\n",
       "      <td>54</td>\n",
       "      <td>0</td>\n",
       "      <td>44</td>\n",
       "      <td>0</td>\n",
       "      <td>3</td>\n",
       "      <td>1</td>\n",
       "      <td>26.0</td>\n",
       "    </tr>\n",
       "    <tr>\n",
       "      <th>1</th>\n",
       "      <td>68</td>\n",
       "      <td>0</td>\n",
       "      <td>76</td>\n",
       "      <td>0</td>\n",
       "      <td>2</td>\n",
       "      <td>0</td>\n",
       "      <td>26.0</td>\n",
       "    </tr>\n",
       "    <tr>\n",
       "      <th>2</th>\n",
       "      <td>896</td>\n",
       "      <td>0</td>\n",
       "      <td>47</td>\n",
       "      <td>0</td>\n",
       "      <td>3</td>\n",
       "      <td>1</td>\n",
       "      <td>26.0</td>\n",
       "    </tr>\n",
       "    <tr>\n",
       "      <th>3</th>\n",
       "      <td>56</td>\n",
       "      <td>0</td>\n",
       "      <td>21</td>\n",
       "      <td>1</td>\n",
       "      <td>1</td>\n",
       "      <td>0</td>\n",
       "      <td>152.0</td>\n",
       "    </tr>\n",
       "    <tr>\n",
       "      <th>4</th>\n",
       "      <td>154</td>\n",
       "      <td>1</td>\n",
       "      <td>29</td>\n",
       "      <td>1</td>\n",
       "      <td>1</td>\n",
       "      <td>1</td>\n",
       "      <td>152.0</td>\n",
       "    </tr>\n",
       "  </tbody>\n",
       "</table>\n",
       "</div>"
      ],
      "text/plain": [
       "    id  Gender  Age  Previously_Insured  Vehicle_Age  Vehicle_Damage  \\\n",
       "0   54       0   44                   0            3               1   \n",
       "1   68       0   76                   0            2               0   \n",
       "2  896       0   47                   0            3               1   \n",
       "3   56       0   21                   1            1               0   \n",
       "4  154       1   29                   1            1               1   \n",
       "\n",
       "   Policy_Sales_Channel  \n",
       "0                  26.0  \n",
       "1                  26.0  \n",
       "2                  26.0  \n",
       "3                 152.0  \n",
       "4                 152.0  "
      ]
     },
     "execution_count": 86,
     "metadata": {},
     "output_type": "execute_result"
    }
   ],
   "source": [
    "new_df=new_df.drop(['Driving_License', 'Vintage', 'Annual_Premium', 'Region_Code'], axis=1)\n",
    "new_df.head()"
   ]
  },
  {
   "cell_type": "code",
   "execution_count": 87,
   "metadata": {},
   "outputs": [],
   "source": [
    "lr, X_train_resampled, X_test, y_train_resampled, y_test, y_pred_train, y_proba_train, y_pred_test, y_proba_test, train_report, test_report, results = model_2_with_cross_val(new_df)\n",
    "\n",
    "new_X = ss.transform(new_df.values)   # Standardize the new dataset as you did with the training data\n",
    "new_predictions = lr.predict(new_X)   #  Predicts labels for the new dataset\n",
    "new_probabilities = lr.predict_proba(new_X)   # Probabilities on the new dataset"
   ]
  },
  {
   "cell_type": "code",
   "execution_count": 88,
   "metadata": {},
   "outputs": [],
   "source": [
    "df_results=pd.DataFrame({\n",
    "    \"ID number\" : new_df[\"id\"],\n",
    "    \"prediction\" : new_predictions,\n",
    "    \"probability\" : new_probabilities.max(axis=1).round(2) \n",
    "})\n",
    "df_results = pd.DataFrame(df_results)\n",
    "df_results[\"response_label\"] = df_results[\"prediction\"].apply(lambda x: \"Positive answer\" if x == 1 else \"Negative answer\")\n",
    "df_result= df_results[[\"ID number\", \"prediction\", \"response_label\", \"probability\"]]\n"
   ]
  },
  {
   "cell_type": "code",
   "execution_count": 89,
   "metadata": {},
   "outputs": [
    {
     "data": {
      "text/html": [
       "<div>\n",
       "<style scoped>\n",
       "    .dataframe tbody tr th:only-of-type {\n",
       "        vertical-align: middle;\n",
       "    }\n",
       "\n",
       "    .dataframe tbody tr th {\n",
       "        vertical-align: top;\n",
       "    }\n",
       "\n",
       "    .dataframe thead th {\n",
       "        text-align: right;\n",
       "    }\n",
       "</style>\n",
       "<table border=\"1\" class=\"dataframe\">\n",
       "  <thead>\n",
       "    <tr style=\"text-align: right;\">\n",
       "      <th></th>\n",
       "      <th>ID number</th>\n",
       "      <th>prediction</th>\n",
       "      <th>probability</th>\n",
       "      <th>response_label</th>\n",
       "    </tr>\n",
       "  </thead>\n",
       "  <tbody>\n",
       "    <tr>\n",
       "      <th>0</th>\n",
       "      <td>54</td>\n",
       "      <td>1</td>\n",
       "      <td>0.91</td>\n",
       "      <td>Positive answer</td>\n",
       "    </tr>\n",
       "    <tr>\n",
       "      <th>1</th>\n",
       "      <td>68</td>\n",
       "      <td>0</td>\n",
       "      <td>0.56</td>\n",
       "      <td>Negative answer</td>\n",
       "    </tr>\n",
       "    <tr>\n",
       "      <th>2</th>\n",
       "      <td>896</td>\n",
       "      <td>1</td>\n",
       "      <td>0.91</td>\n",
       "      <td>Positive answer</td>\n",
       "    </tr>\n",
       "    <tr>\n",
       "      <th>3</th>\n",
       "      <td>56</td>\n",
       "      <td>0</td>\n",
       "      <td>0.91</td>\n",
       "      <td>Negative answer</td>\n",
       "    </tr>\n",
       "    <tr>\n",
       "      <th>4</th>\n",
       "      <td>154</td>\n",
       "      <td>0</td>\n",
       "      <td>0.71</td>\n",
       "      <td>Negative answer</td>\n",
       "    </tr>\n",
       "    <tr>\n",
       "      <th>5</th>\n",
       "      <td>654</td>\n",
       "      <td>1</td>\n",
       "      <td>0.73</td>\n",
       "      <td>Positive answer</td>\n",
       "    </tr>\n",
       "    <tr>\n",
       "      <th>6</th>\n",
       "      <td>82</td>\n",
       "      <td>1</td>\n",
       "      <td>0.76</td>\n",
       "      <td>Positive answer</td>\n",
       "    </tr>\n",
       "    <tr>\n",
       "      <th>7</th>\n",
       "      <td>546</td>\n",
       "      <td>1</td>\n",
       "      <td>0.82</td>\n",
       "      <td>Positive answer</td>\n",
       "    </tr>\n",
       "    <tr>\n",
       "      <th>8</th>\n",
       "      <td>859</td>\n",
       "      <td>0</td>\n",
       "      <td>0.92</td>\n",
       "      <td>Negative answer</td>\n",
       "    </tr>\n",
       "    <tr>\n",
       "      <th>9</th>\n",
       "      <td>2054</td>\n",
       "      <td>0</td>\n",
       "      <td>0.93</td>\n",
       "      <td>Negative answer</td>\n",
       "    </tr>\n",
       "    <tr>\n",
       "      <th>10</th>\n",
       "      <td>4985</td>\n",
       "      <td>1</td>\n",
       "      <td>0.81</td>\n",
       "      <td>Positive answer</td>\n",
       "    </tr>\n",
       "    <tr>\n",
       "      <th>11</th>\n",
       "      <td>156</td>\n",
       "      <td>0</td>\n",
       "      <td>0.92</td>\n",
       "      <td>Negative answer</td>\n",
       "    </tr>\n",
       "    <tr>\n",
       "      <th>12</th>\n",
       "      <td>130</td>\n",
       "      <td>0</td>\n",
       "      <td>0.85</td>\n",
       "      <td>Negative answer</td>\n",
       "    </tr>\n",
       "    <tr>\n",
       "      <th>13</th>\n",
       "      <td>1356</td>\n",
       "      <td>1</td>\n",
       "      <td>0.80</td>\n",
       "      <td>Positive answer</td>\n",
       "    </tr>\n",
       "    <tr>\n",
       "      <th>14</th>\n",
       "      <td>156</td>\n",
       "      <td>0</td>\n",
       "      <td>0.89</td>\n",
       "      <td>Negative answer</td>\n",
       "    </tr>\n",
       "    <tr>\n",
       "      <th>15</th>\n",
       "      <td>1506</td>\n",
       "      <td>1</td>\n",
       "      <td>0.83</td>\n",
       "      <td>Positive answer</td>\n",
       "    </tr>\n",
       "    <tr>\n",
       "      <th>16</th>\n",
       "      <td>185</td>\n",
       "      <td>1</td>\n",
       "      <td>0.73</td>\n",
       "      <td>Positive answer</td>\n",
       "    </tr>\n",
       "  </tbody>\n",
       "</table>\n",
       "</div>"
      ],
      "text/plain": [
       "    ID number  prediction  probability   response_label\n",
       "0          54           1         0.91  Positive answer\n",
       "1          68           0         0.56  Negative answer\n",
       "2         896           1         0.91  Positive answer\n",
       "3          56           0         0.91  Negative answer\n",
       "4         154           0         0.71  Negative answer\n",
       "5         654           1         0.73  Positive answer\n",
       "6          82           1         0.76  Positive answer\n",
       "7         546           1         0.82  Positive answer\n",
       "8         859           0         0.92  Negative answer\n",
       "9        2054           0         0.93  Negative answer\n",
       "10       4985           1         0.81  Positive answer\n",
       "11        156           0         0.92  Negative answer\n",
       "12        130           0         0.85  Negative answer\n",
       "13       1356           1         0.80  Positive answer\n",
       "14        156           0         0.89  Negative answer\n",
       "15       1506           1         0.83  Positive answer\n",
       "16        185           1         0.73  Positive answer"
      ]
     },
     "execution_count": 89,
     "metadata": {},
     "output_type": "execute_result"
    }
   ],
   "source": [
    "df_results"
   ]
  }
 ],
 "metadata": {
  "kernelspec": {
   "display_name": "base",
   "language": "python",
   "name": "python3"
  },
  "language_info": {
   "codemirror_mode": {
    "name": "ipython",
    "version": 3
   },
   "file_extension": ".py",
   "mimetype": "text/x-python",
   "name": "python",
   "nbconvert_exporter": "python",
   "pygments_lexer": "ipython3",
   "version": "3.9.13"
  }
 },
 "nbformat": 4,
 "nbformat_minor": 2
}
